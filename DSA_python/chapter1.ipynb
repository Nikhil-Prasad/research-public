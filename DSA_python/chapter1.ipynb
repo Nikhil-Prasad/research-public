{
 "cells": [
  {
   "cell_type": "markdown",
   "metadata": {},
   "source": [
    "# Notes on Chapter 1 "
   ]
  },
  {
   "cell_type": "code",
   "execution_count": 4,
   "metadata": {},
   "outputs": [
    {
     "name": "stdout",
     "output_type": "stream",
     "text": [
      "Help on method_descriptor:\n",
      "\n",
      "reverse(self, /)\n",
      "    Reverse *IN PLACE*.\n",
      "\n"
     ]
    }
   ],
   "source": [
    "help(list.reverse)"
   ]
  },
  {
   "cell_type": "code",
   "execution_count": 9,
   "metadata": {},
   "outputs": [],
   "source": [
    "class Counter(object):\n",
    "    \"\"\"Models a counter.\"\"\"\n",
    "    \n",
    "    # Class variable\n",
    "    instances = 0\n",
    "    \n",
    "   #Constructor\n",
    "    def __init__(self):\n",
    "        \"\"\"Sets up the counter.\"\"\"\n",
    "        Counter.instances += 1\n",
    "        self.reset()\n",
    "        \n",
    "    # Mutator methods\n",
    "    def reset(self):\n",
    "        \"\"\"Resets the counter to 0.\"\"\"\n",
    "        self._value = 0\n",
    "        \n",
    "    def increment(self, amount = 1):\n",
    "        \"\"\"Adds amount to the counter.\"\"\"\n",
    "        self._value += amount\n",
    "        \n",
    "\n",
    "    def decrement(self, amount = 1):\n",
    "       \"\"\"Subtracts amount from the counter.\"\"\"\n",
    "       self._value -= amount\n",
    "        \n",
    "\n",
    "    # Accessor methods\n",
    "    def getValue(self):\n",
    "        \"\"\"Returns the counter's value.\"\"\"\n",
    "        return self._value\n",
    "    \n",
    "\n",
    "    def __str__(self):\n",
    "        \"\"\"Returns the string representation of the counter.\"\"\"\n",
    "        return str(self._value)\n",
    "    \n",
    "    def __eq__(self, other):\n",
    "        \"\"\"Returns True if self equals other\n",
    "\n",
    "        or False otherwise.\"\"\"\n",
    "        if self is other: return True\n",
    "        if type(self) != type(other): return False\n",
    "        return self._value == other._value"
   ]
  },
  {
   "cell_type": "code",
   "execution_count": 10,
   "metadata": {},
   "outputs": [
    {
     "name": "stdout",
     "output_type": "stream",
     "text": [
      "Help on function reset in module __main__:\n",
      "\n",
      "reset(self)\n",
      "    # Mutator methods\n",
      "\n"
     ]
    }
   ],
   "source": [
    "help(Counter.reset)"
   ]
  },
  {
   "cell_type": "code",
   "execution_count": 16,
   "metadata": {},
   "outputs": [],
   "source": [
    "import math\n",
    "def sphere(radius):\n",
    "    diameter = 2 * radius\n",
    "    surface_area = (4/3)*math.pi*(radius**3)\n",
    "    volume = 4*math.pi*(radius**2)\n",
    "\n",
    "    return diameter, surface_area, volume"
   ]
  },
  {
   "cell_type": "code",
   "execution_count": 17,
   "metadata": {},
   "outputs": [
    {
     "data": {
      "text/plain": [
       "(9.0, 381.7035074111598, 254.46900494077323)"
      ]
     },
     "execution_count": 17,
     "metadata": {},
     "output_type": "execute_result"
    }
   ],
   "source": [
    "sphere(4.5)"
   ]
  },
  {
   "cell_type": "code",
   "execution_count": 18,
   "metadata": {},
   "outputs": [],
   "source": [
    "def weekly_pay(hourly_wage, total_regular_hours, overtime_hours):\n",
    "    return (hourly_wage * total_regular_hours) + (1.5 * hourly_wage * overtime_hours)"
   ]
  },
  {
   "cell_type": "code",
   "execution_count": 19,
   "metadata": {},
   "outputs": [
    {
     "data": {
      "text/plain": [
       "2200.0"
      ]
     },
     "execution_count": 19,
     "metadata": {},
     "output_type": "execute_result"
    }
   ],
   "source": [
    "weekly_pay(40,40,10)"
   ]
  },
  {
   "cell_type": "code",
   "execution_count": 25,
   "metadata": {},
   "outputs": [],
   "source": [
    "def pi_approximation(number_of_steps):\n",
    "    pi = 0\n",
    "    for i in range(number_of_steps):\n",
    "        pi += 4 * ((-1)**i) / (2*i + 1)\n",
    "    return pi"
   ]
  },
  {
   "cell_type": "code",
   "execution_count": 34,
   "metadata": {},
   "outputs": [
    {
     "data": {
      "text/plain": [
       "3.141592643589326"
      ]
     },
     "execution_count": 34,
     "metadata": {},
     "output_type": "execute_result"
    }
   ],
   "source": [
    "pi_approximation(100000000)"
   ]
  }
 ],
 "metadata": {
  "kernelspec": {
   "display_name": "Python 3",
   "language": "python",
   "name": "python3"
  },
  "language_info": {
   "codemirror_mode": {
    "name": "ipython",
    "version": 3
   },
   "file_extension": ".py",
   "mimetype": "text/x-python",
   "name": "python",
   "nbconvert_exporter": "python",
   "pygments_lexer": "ipython3",
   "version": "3.9.7"
  }
 },
 "nbformat": 4,
 "nbformat_minor": 2
}
